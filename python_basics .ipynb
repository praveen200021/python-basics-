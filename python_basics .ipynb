{
  "nbformat": 4,
  "nbformat_minor": 0,
  "metadata": {
    "colab": {
      "provenance": []
    },
    "kernelspec": {
      "name": "python3",
      "display_name": "Python 3"
    },
    "language_info": {
      "name": "python"
    }
  },
  "cells": [
    {
      "cell_type": "code",
      "execution_count": null,
      "metadata": {
        "id": "NCWXa4KdMEsV"
      },
      "outputs": [],
      "source": []
    },
    {
      "cell_type": "markdown",
      "source": [
        "01. What is Python, and why is it popular?\n",
        "\n",
        "  sol:Python is a programming language that is easy to understand and write, making it a popular choice among developers and programmers. It is compatible with various programming paradigms, such as procedural, object-oriented, and functional programming.Python has a large and active community of developers, an extensive standard library, and third-party packages for various domains.\n",
        "\n",
        "---\n",
        "02. What is an interpreter in Python\n",
        "\n",
        "  sol:In Python, an interpreter is a program that executes the Python code line by line. When you write a Python script and run it, the Python interpreter reads the code, interprets it, and then executes the instructions.\n",
        "* Python is an interpreted language, meaning it doesn’t need to be compiled into machine code (like languages such as C or C++). Instead, the Python interpreter directly executes the instructions in the Python script.\n",
        "\n",
        "---\n",
        "\n",
        "3.  What are pre-defined keywords in Python\n",
        "\n",
        "  sol:Keywords are reserved words in Python that have special meanings and cannot be used as identifiers (variable names, function names, etc.).\n",
        "\n",
        "* Examples of keywords include if, else, while, for, def, class, import, try, except, return, True, False, None, etc.\n",
        "Keywords are case-sensitive and cannot be redefined or overridden within a Python program.\n",
        "\n",
        "---\n",
        "4. Can keywords be used as variable names?\n",
        "\n",
        "  sol:no, keyword cannot be used as variables name.\n",
        "\n",
        "---\n",
        " 5. What is mutability in Python\n",
        "\n",
        "  sol: the ablity to modify the elements of a list or dictionaries.\n",
        "\n",
        "---\n",
        "6. Why are lists mutable, but tuples are immutable\n",
        "\n",
        "  sol: . Lists are versatile for storing and managing collections that might change.\n",
        "*  Tuples are useful for representing fixed datasets or configurations.\n",
        "\n",
        "\n",
        "---\n",
        "7.  What is the difference between “==” and “is” operators in Python\n",
        "\n",
        "  sol:  \"==\"  Checks if the values of two objects are the same.\n",
        "* Example: 5 == 5 returns True because the values are equal.\n",
        "\n",
        "\"is\" is (Identity Operator): Checks if two objects are the same object in memory\n",
        " * example: a = [1,2,3]\n",
        "\n",
        "b = a\n",
        "\n",
        "a is b  # Returns True because both 'a' and 'b' refer to the same object in memory\n",
        "\n",
        "---\n",
        "8. What are logical operators in Python\n",
        "\n",
        "  sol:\"and\" is one of the logiv=cal operators, it Returns True if both conditions are true; otherwise, returns False.\n",
        "* \"or\" operators returns True if at least one of the conditions is true; returns False only if both are false.\n",
        "\n",
        "* \"not\" Reverses the Boolean value of the condition; converts True to False and vice versa.\n",
        "\n",
        "\n",
        "---\n",
        "9. What is type casting in Python?\n",
        "\n",
        "  sol: Type casting, also referred to as type conversion, is the process of changing one data type to another in Python.\n",
        "Python provides built-in functions for type casting, such as int(), float(), str(), list(), tuple(), dict(), etc.\n",
        "* implicit type casting  is automatically done by python\n",
        "* explicit typecasting has to be done by the programmer manually\n",
        "\n",
        "---\n",
        "10.  What is the difference between implicit and explicit type casting?\n",
        "\n",
        "  sol: implicit type casting  is automatically done by python\n",
        "* explicit typecasting has to be done by the programmer manually\n",
        "\n",
        "\n",
        "---\n",
        "11. What is the purpose of conditional statements in Python?\n",
        "\n",
        "  sol:Conditionals in Python are used to execute code based on the evaluation of one or more conditions.\n",
        "Python supports conditional statements such as if, elif (else if), and else to control the flow of execution.\n",
        "Conditionals can be nested to handle multiple conditions and control different branches of execution based on the outcome of logical expressions.\n",
        "---\n",
        "12. How does the elif statement work?\n",
        "\n",
        "  sol:In Python, the \"elif\" statement allows you to check multiple conditions sequentially after an initial \"if\" statement,  it executes the elif block of code corresponding to the first condition that evaluates to \"true\" then rest of the block is ignored.\n",
        "  \n",
        "   \n",
        "\n",
        "---\n",
        "13. What is the difference between for and while loops?\n",
        "\n",
        "  sol:for loop is used for iterating over a sequence of elements or block of code.\n",
        "\n",
        "* while loops is used for executing a code until a specific condition becomes false\n",
        "\n",
        "---\n",
        "14. Describe a scenario where a while loop is more suitable than a for loop.\n",
        "\n",
        "  sol:In Python, a while loop is more suitable than a for loop when the number of iterations is not predetermined and depends on dynamic conditions evaluated during runtime. This type of loop continues executing a block of code as long as a specified condition remains true.\n",
        "\n",
        "  * Consider a scenario where you need to prompt a user for valid input like setting up a new password , until they provide acceptable password . Since the number of attempts is uncertain and depends on user behavior, a while loop is appropriate.\n",
        "\n",
        "\n",
        "\n"
      ],
      "metadata": {
        "id": "IsyRtiESMH98"
      }
    },
    {
      "cell_type": "code",
      "source": [
        "# 1. Write a Python program to print \"Hello, World\"\n",
        "print(\"hello, world\" )"
      ],
      "metadata": {
        "colab": {
          "base_uri": "https://localhost:8080/"
        },
        "id": "q8-fW2u4aQ5F",
        "outputId": "6cfb2bd1-b736-48db-f637-6355bed7371d"
      },
      "execution_count": null,
      "outputs": [
        {
          "output_type": "stream",
          "name": "stdout",
          "text": [
            "hello, world\n"
          ]
        }
      ]
    },
    {
      "cell_type": "code",
      "source": [
        "# 2.Write a Python program that displays your name and age.\n",
        "name=\"praveen\"\n",
        "age=24\n",
        "print(f\"my name is {name} and age is {age}\")"
      ],
      "metadata": {
        "id": "u6WezemBbFlv",
        "colab": {
          "base_uri": "https://localhost:8080/"
        },
        "outputId": "601e3846-ebc6-473c-d283-1105d39c2a32"
      },
      "execution_count": null,
      "outputs": [
        {
          "output_type": "stream",
          "name": "stdout",
          "text": [
            "my name is praveen and age is 24\n"
          ]
        }
      ]
    },
    {
      "cell_type": "code",
      "source": [
        "# 3.Write code to print all the pre-defined keywords in Python using the keyword library\n",
        "import keyword\n",
        "print(keyword.kwlist)\n"
      ],
      "metadata": {
        "colab": {
          "base_uri": "https://localhost:8080/"
        },
        "id": "RoOiA2gtfqUm",
        "outputId": "e66a0e80-b555-47d4-f912-82e942abe73a"
      },
      "execution_count": null,
      "outputs": [
        {
          "output_type": "stream",
          "name": "stdout",
          "text": [
            "['False', 'None', 'True', 'and', 'as', 'assert', 'async', 'await', 'break', 'class', 'continue', 'def', 'del', 'elif', 'else', 'except', 'finally', 'for', 'from', 'global', 'if', 'import', 'in', 'is', 'lambda', 'nonlocal', 'not', 'or', 'pass', 'raise', 'return', 'try', 'while', 'with', 'yield']\n"
          ]
        }
      ]
    },
    {
      "cell_type": "code",
      "source": [
        "# 4.Write a program that checks if a given word is a Python keyword.\n",
        "import keyword\n",
        "\n",
        "word = input(\"Enter a word: \")\n",
        "\n",
        "if keyword.iskeyword(word):\n",
        "    print(f\"'{word}' is a Python keyword.\")\n",
        "else:\n",
        "    print(f\"'{word}' is not a Python keyword.\")\n"
      ],
      "metadata": {
        "colab": {
          "base_uri": "https://localhost:8080/"
        },
        "id": "Dzco2zhFhE51",
        "outputId": "072afdaf-3dd2-4d72-b7a4-3478f9a2c1a9"
      },
      "execution_count": null,
      "outputs": [
        {
          "output_type": "stream",
          "name": "stdout",
          "text": [
            "Enter a word: sdsdsd\n",
            "'sdsdsd' is not a Python keyword.\n"
          ]
        }
      ]
    },
    {
      "cell_type": "markdown",
      "source": [],
      "metadata": {
        "id": "jMpJsa_BhEHI"
      }
    },
    {
      "cell_type": "code",
      "source": [
        "# 5.  Create a list and tuple in Python, and demonstrate how attempting to change an element works differently for each.\n",
        "lis=[1,2,3,4,]\n",
        "tupl=(5,6,7,8,)\n",
        "lis[0]=8 # changed the index 0 from 1 to 8 as list is mutable\n",
        "print(lis)\n",
        "tupl[0]= 3 #immutable so throws an error\n",
        "print(tupl)"
      ],
      "metadata": {
        "colab": {
          "base_uri": "https://localhost:8080/",
          "height": 211
        },
        "id": "ev4hV72ujJkz",
        "outputId": "43f169b4-ae42-42a2-f85b-290184d3dd4e"
      },
      "execution_count": null,
      "outputs": [
        {
          "output_type": "stream",
          "name": "stdout",
          "text": [
            "[8, 2, 3, 4]\n"
          ]
        },
        {
          "output_type": "error",
          "ename": "TypeError",
          "evalue": "'tuple' object does not support item assignment",
          "traceback": [
            "\u001b[0;31m---------------------------------------------------------------------------\u001b[0m",
            "\u001b[0;31mTypeError\u001b[0m                                 Traceback (most recent call last)",
            "\u001b[0;32m<ipython-input-11-0193f045b5b8>\u001b[0m in \u001b[0;36m<cell line: 0>\u001b[0;34m()\u001b[0m\n\u001b[1;32m      4\u001b[0m \u001b[0mlis\u001b[0m\u001b[0;34m[\u001b[0m\u001b[0;36m0\u001b[0m\u001b[0;34m]\u001b[0m\u001b[0;34m=\u001b[0m\u001b[0;36m8\u001b[0m \u001b[0;31m# changed the index 0 from 1 to 8 as list is mutable\u001b[0m\u001b[0;34m\u001b[0m\u001b[0;34m\u001b[0m\u001b[0m\n\u001b[1;32m      5\u001b[0m \u001b[0mprint\u001b[0m\u001b[0;34m(\u001b[0m\u001b[0mlis\u001b[0m\u001b[0;34m)\u001b[0m\u001b[0;34m\u001b[0m\u001b[0;34m\u001b[0m\u001b[0m\n\u001b[0;32m----> 6\u001b[0;31m \u001b[0mtupl\u001b[0m\u001b[0;34m[\u001b[0m\u001b[0;36m0\u001b[0m\u001b[0;34m]\u001b[0m\u001b[0;34m=\u001b[0m \u001b[0;36m3\u001b[0m\u001b[0;34m\u001b[0m\u001b[0;34m\u001b[0m\u001b[0m\n\u001b[0m\u001b[1;32m      7\u001b[0m \u001b[0mprint\u001b[0m\u001b[0;34m(\u001b[0m\u001b[0mtupl\u001b[0m\u001b[0;34m)\u001b[0m\u001b[0;34m\u001b[0m\u001b[0;34m\u001b[0m\u001b[0m\n",
            "\u001b[0;31mTypeError\u001b[0m: 'tuple' object does not support item assignment"
          ]
        }
      ]
    },
    {
      "cell_type": "code",
      "source": [
        "# 6.  Write a function to demonstrate the behavior of mutable and immutable arguments.\n"
      ],
      "metadata": {
        "id": "BYG8k3fflSMl"
      },
      "execution_count": null,
      "outputs": []
    },
    {
      "cell_type": "code",
      "source": [
        "# 7. Write a program that performs basic arithmetic operations on two user-input numbers.\n",
        "num1=int(input(\"enter the first number \"))\n",
        "num2=int(input(\"enter the second number\" ))\n",
        "operations= input(\"Enter the operation (+, -, *, /): \")\n",
        "if operations== \"+\":\n",
        "  print(num1+num2)\n",
        "elif operations == \"-\":\n",
        "  print(num1-num2)\n",
        "elif operations == \"*\":\n",
        "  print(num1*num2)\n",
        "elif operations == \"/\":\n",
        "  print(num1/num2)\n",
        "else:\n",
        "  print(\"invalid operation \")"
      ],
      "metadata": {
        "colab": {
          "base_uri": "https://localhost:8080/"
        },
        "id": "ohxn6ziYmZM9",
        "outputId": "61aaee55-e0c8-439e-af01-0385ad9c45a5"
      },
      "execution_count": null,
      "outputs": [
        {
          "output_type": "stream",
          "name": "stdout",
          "text": [
            "enter the first number 1\n",
            "enter the second number1\n",
            "Enter the operation (+, -, *, /): +\n",
            "2\n"
          ]
        }
      ]
    },
    {
      "cell_type": "code",
      "source": [
        "# 8. Write a program to demonstrate the use of logical operators.\n",
        "# pub entery\n",
        "\n",
        "age = int(input(\"enter your age :\"))\n",
        "has_permission = True\n",
        "\n",
        "# Using 'and' operator\n",
        "if age >= 18 and has_permission:\n",
        "    print(\"Access granted using 'and'.\")\n",
        "\n",
        "# Using 'or' operator\n",
        "if age < 18 or not has_permission:\n",
        "    print(\"Access denied using 'or'.\")\n",
        "\n",
        "# Using 'not' operator\n",
        "if not (age < 18):\n",
        "    print(\"Access granted using 'not'.\")\n"
      ],
      "metadata": {
        "colab": {
          "base_uri": "https://localhost:8080/"
        },
        "id": "PvO39rd2nfwL",
        "outputId": "84fe824a-6153-4f95-d761-41f5e0e0bc00"
      },
      "execution_count": 1,
      "outputs": [
        {
          "output_type": "stream",
          "name": "stdout",
          "text": [
            "enter your age :17\n",
            "Access denied using 'or'.\n"
          ]
        }
      ]
    },
    {
      "cell_type": "code",
      "source": [
        "# 9.  Write a Python program to convert user input from string to integer, float, and boolean types.\n",
        "user=input(\"enter the number \")\n",
        "print(int(user))\n",
        "print(float(user))\n",
        "print(bool(user))"
      ],
      "metadata": {
        "colab": {
          "base_uri": "https://localhost:8080/"
        },
        "id": "I4ltazn6UR7J",
        "outputId": "3ad4c51e-ccb0-4d1b-ad7b-86072f72ccf7"
      },
      "execution_count": 3,
      "outputs": [
        {
          "output_type": "stream",
          "name": "stdout",
          "text": [
            "enter the number 12\n",
            "12\n",
            "12.0\n",
            "True\n"
          ]
        }
      ]
    },
    {
      "cell_type": "code",
      "source": [
        "# 10 . Write code to demonstrate type casting with list elements.\n",
        "lis=[1,2,3,4,5]\n",
        "print(str(lis))\n"
      ],
      "metadata": {
        "colab": {
          "base_uri": "https://localhost:8080/"
        },
        "id": "noWbVQ0xVA7D",
        "outputId": "a728cc07-4272-4069-fece-5e82dab3ad10"
      },
      "execution_count": 7,
      "outputs": [
        {
          "output_type": "stream",
          "name": "stdout",
          "text": [
            "[1, 2, 3, 4, 5]\n",
            "True\n"
          ]
        }
      ]
    },
    {
      "cell_type": "code",
      "source": [
        "# 11. . Write a program that checks if a number is positive, negative, or zero.\n",
        "num=int(input(\"enter the number\" ))\n",
        "if num>0:\n",
        "  print(\"positive\")\n",
        "\n",
        "elif num<0:\n",
        "    print(\"negative\")\n",
        "else:\n",
        "      print(\"zero\")"
      ],
      "metadata": {
        "colab": {
          "base_uri": "https://localhost:8080/"
        },
        "id": "uu-ul5tmWNav",
        "outputId": "a5859e7d-1281-49ba-ce23-4c03c7eb480b"
      },
      "execution_count": 11,
      "outputs": [
        {
          "output_type": "stream",
          "name": "stdout",
          "text": [
            "enter the number-1\n",
            "negative\n"
          ]
        }
      ]
    },
    {
      "cell_type": "code",
      "source": [
        "# 12.  Write a for loop to print numbers from 1 to 10.\n",
        "for num in range(1,11):\n",
        "  print(num)"
      ],
      "metadata": {
        "colab": {
          "base_uri": "https://localhost:8080/"
        },
        "id": "CulX7q9JW7gD",
        "outputId": "40bd36b2-6503-4986-adbe-db03cc0f1f72"
      },
      "execution_count": 14,
      "outputs": [
        {
          "output_type": "stream",
          "name": "stdout",
          "text": [
            "1\n",
            "2\n",
            "3\n",
            "4\n",
            "5\n",
            "6\n",
            "7\n",
            "8\n",
            "9\n",
            "10\n"
          ]
        }
      ]
    },
    {
      "cell_type": "code",
      "source": [
        "#13. . Write a Python program to find the sum of all even numbers between 1 and 50.\n",
        "even_sum=0\n",
        "for num in range(1,51):\n",
        "  if num%2==0:\n",
        "    even_sum += num\n",
        "print(even_sum)\n",
        "\n",
        "\n"
      ],
      "metadata": {
        "colab": {
          "base_uri": "https://localhost:8080/"
        },
        "id": "Q9SAixwTXvcj",
        "outputId": "0c8ba775-87c4-49dc-924d-02243bd556d3"
      },
      "execution_count": 24,
      "outputs": [
        {
          "output_type": "stream",
          "name": "stdout",
          "text": [
            "650\n"
          ]
        }
      ]
    },
    {
      "cell_type": "code",
      "source": [
        "# 14.  Write a program to reverse a string using a while loop.\n",
        "\n",
        "word=str(input(\"enter the word \"))\n",
        "while True:\n",
        "  rev=word[::-1]\n",
        "  print(\"Reversed word:\", rev)\n",
        "  break\n",
        ""
      ],
      "metadata": {
        "colab": {
          "base_uri": "https://localhost:8080/"
        },
        "id": "wrZK1aTteEhA",
        "outputId": "7255e42a-460c-41a6-e2e3-ae83b6a45458"
      },
      "execution_count": 9,
      "outputs": [
        {
          "output_type": "stream",
          "name": "stdout",
          "text": [
            "enter the word praveen\n",
            "Reversed word: neevarp\n"
          ]
        }
      ]
    },
    {
      "cell_type": "code",
      "source": [
        "# 15. Write a Python program to calculate the factorial of a number provided by the user using a while loop\n",
        "\n",
        "num=int(input(\"enter the number\"))\n",
        "i=1\n",
        "while num > 0:\n",
        "  i=i*num\n",
        "  num=num-1\n",
        "print(i)\n",
        "\n"
      ],
      "metadata": {
        "colab": {
          "base_uri": "https://localhost:8080/"
        },
        "id": "6py18bU3hkGZ",
        "outputId": "01e7b0a2-95e9-4015-a628-ac19085a9cb4"
      },
      "execution_count": 8,
      "outputs": [
        {
          "output_type": "stream",
          "name": "stdout",
          "text": [
            "enter the number4\n",
            "24\n"
          ]
        }
      ]
    }
  ]
}